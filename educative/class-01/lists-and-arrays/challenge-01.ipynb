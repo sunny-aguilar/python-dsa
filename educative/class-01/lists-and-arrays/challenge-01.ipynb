{
 "metadata": {
  "language_info": {
   "codemirror_mode": {
    "name": "ipython",
    "version": 3
   },
   "file_extension": ".py",
   "mimetype": "text/x-python",
   "name": "python",
   "nbconvert_exporter": "python",
   "pygments_lexer": "ipython3",
   "version": "3.8.2-final"
  },
  "orig_nbformat": 2,
  "kernelspec": {
   "name": "python38264bit382pyenv7606190f9b494e638a2464b0f28d13dc",
   "display_name": "Python 3.8.2 64-bit ('3.8.2': pyenv)"
  }
 },
 "nbformat": 4,
 "nbformat_minor": 2,
 "cells": [
  {
   "cell_type": "markdown",
   "metadata": {},
   "source": [
    "# Challenge 1: Remove Even Integers from List\n",
    "Given a list of size n, remove all even integers from it. Implement this solution in Python and see if it runs without an error.\n",
    "\n",
    "## Problem Statement\n",
    "Implement a function that removes all the even elements from a given list. Name it ```remove_even(list)```.\n",
    "\n",
    "### Input\n",
    "A list with random integers\n",
    "\n",
    "### Output\n",
    "A list with only odd integers\n"
   ]
  },
  {
   "cell_type": "markdown",
   "metadata": {
    "tags": []
   },
   "source": [
    "### Sample Input\n",
    "my_list = [1,2,4,5,10,6,3]\n",
    "\n",
    "### Sample Output\n",
    "my_list = [1,5,3]\n",
    "\n",
    "![Example](https://i.ibb.co/8MkzSgF/Screen-Shot-2020-08-29-at-3-36-17-PM.png)"
   ]
  },
  {
   "cell_type": "markdown",
   "metadata": {},
   "source": [
    "\n",
    "\n",
    "\n"
   ]
  },
  {
   "cell_type": "code",
   "execution_count": null,
   "metadata": {
    "tags": []
   },
   "outputs": [],
   "source": [
    "# list with EVEN and ODD number\n",
    "list = [-41, -73, -54, 173, -10, -179, 29, -113, -2, -182, -59, -52, -159, -58, -150, 58, -132, -105, 181, 49, 62, 77, -84, -157, -26, 104, 46, -61, -51, -123, 151, 61, -195, -28, -56, -164, 68, 123, -151, 21, -186, 47, -95, -35, -18, 38, 116, 8, -78, 154, 163, -128, 188, 113, -29, 13, -69, 95, 37, -165, 93, 122, 17, -118, -147, -94, -27, -31, -37, 0, -184, 71, -19, 98, -104, -145, 169, 180, -34, 132, 137, 65, -119, -181, -117, -13, 144, 83, 135, 33, -1, -16, -162]\n",
    "\n",
    "def remove_even(list):\n",
    "    # list your code here!\n",
    "    list = [ num for num in list if num % 2 == 1 ]          # list comprehension to avoid skipping indexes\n",
    "    print(list)\n",
    "    return list\n",
    "    pass\n",
    "\n",
    "if __name__ == \"__main__\":\n",
    "    remove_even(list)\n",
    "    \n"
   ]
  },
  {
   "cell_type": "markdown",
   "metadata": {},
   "source": [
    "## Official Solution"
   ]
  },
  {
   "cell_type": "markdown",
   "metadata": {},
   "source": [
    "def remove_even(list):\n",
    "    odds = []  # Create a new empty list\n",
    "    for number in list:  # Iterate over input list\n",
    "        # Check if the item in the list is NOT even\n",
    "        # ('%' is the modulus symbol!)\n",
    "        if number % 2 != 0:\n",
    "            odds.append(number)  # If it isn't even append it to the empty list\n",
    "    return odds  # Return the new list\n",
    "\n",
    "\n",
    "print(remove_even([3, 2, 41, 3, 34]))\n",
    "\n",
    "### Time Complexity: **O(n)**"
   ]
  },
  {
   "cell_type": "markdown",
   "metadata": {},
   "source": [
    "# Challenge 2: Merge Two Sorted Lists\n",
    "Given two sorted lists, merge them into one list which should also be sorted. Implement the solution in Python and see if your code runs successfully.\n",
    "\n",
    "## Problem Statement\n",
    "Implement a function that merges two sorted lists of m and n elements respectively, into another sorted list. Name it ```merge_lists(lst1, lst2)```.\n",
    "\n",
    "### Input\n",
    "Two sorted lists.\n",
    "\n",
    "### Output\n",
    "A merged and sorted list consisting of all elements of both input lists.\n",
    "\n",
    "### Sample Input\n",
    "list1 = [1,3,4,5]  \n",
    "list2 = [2,6,7,8]\n",
    "\n",
    "### Sample Output\n",
    "arr = [1,2,3,4,5,6,7,8]\n",
    "\n",
    "![Example](https://i.ibb.co/8NtP03k/Screen-Shot-2020-08-31-at-9-49-06-PM.png)"
   ]
  },
  {
   "cell_type": "markdown",
   "metadata": {},
   "source": [
    "# My Solution"
   ]
  },
  {
   "cell_type": "code",
   "execution_count": null,
   "metadata": {},
   "outputs": [],
   "source": [
    "lst1 = [1, 2, 3]\n",
    "lst2 = [4, 5, 6]\n",
    "\n",
    "def merge_lists(lst1, lst2):\n",
    "    # Write your code here\n",
    "    sorted = []\n",
    "    for item1 in lst1:\n",
    "        for item2 in lst2:\n",
    "            if item1 > item2:\n",
    "\n",
    "    pass\n",
    "\n",
    "\n",
    "if __name__ == \"__main__\":\n",
    "    merge_lists(lst1, lst2)"
   ]
  }
 ]
}