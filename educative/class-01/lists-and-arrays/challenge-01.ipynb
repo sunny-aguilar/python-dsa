{
 "metadata": {
  "language_info": {
   "codemirror_mode": {
    "name": "ipython",
    "version": 3
   },
   "file_extension": ".py",
   "mimetype": "text/x-python",
   "name": "python",
   "nbconvert_exporter": "python",
   "pygments_lexer": "ipython3",
   "version": "3.8.2-final"
  },
  "orig_nbformat": 2,
  "kernelspec": {
   "name": "python38264bit382pyenv7606190f9b494e638a2464b0f28d13dc",
   "display_name": "Python 3.8.2 64-bit ('3.8.2': pyenv)"
  }
 },
 "nbformat": 4,
 "nbformat_minor": 2,
 "cells": [
  {
   "cell_type": "markdown",
   "metadata": {},
   "source": [
    "# Challenge 1: Remove Even Integers from List\n",
    "Given a list of size n, remove all even integers from it. Implement this solution in Python and see if it runs without an error.\n",
    "\n",
    "## Problem Statement\n",
    "Implement a function that removes all the even elements from a given list. Name it ```remove_even(list)```.\n",
    "\n",
    "### Input\n",
    "A list with random integers\n",
    "\n",
    "### Output\n",
    "A list with only odd integers\n"
   ]
  },
  {
   "cell_type": "markdown",
   "metadata": {
    "tags": []
   },
   "source": [
    "### Sample Input\n",
    "my_list = [1,2,4,5,10,6,3]\n",
    "\n",
    "### Sample Output\n",
    "my_list = [1,5,3]\n",
    "\n",
    "![Example](https://i.ibb.co/8MkzSgF/Screen-Shot-2020-08-29-at-3-36-17-PM.png)"
   ]
  },
  {
   "cell_type": "markdown",
   "metadata": {},
   "source": [
    "\n",
    "\n",
    "\n"
   ]
  },
  {
   "cell_type": "code",
   "execution_count": 13,
   "metadata": {},
   "outputs": [],
   "source": [
    "### My Solution:\n",
    "\n",
    "def remove_even(list):\n",
    "    # Write your code here!\n",
    "\n",
    "    # iterate through the list\n",
    "    for num in list:\n",
    "        if list % 2 is 0:\n",
    "            list.remove(num)\n",
    "    pass\n",
    "\n",
    "\n"
   ]
  }
 ]
}